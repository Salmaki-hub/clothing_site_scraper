{
 "cells": [
  {
   "cell_type": "code",
   "execution_count": 1,
   "id": "5396b65e",
   "metadata": {},
   "outputs": [],
   "source": [
    "import pandas as pd\n",
    "import requests\n",
    "from bs4 import BeautifulSoup"
   ]
  },
  {
   "cell_type": "code",
   "execution_count": 2,
   "id": "46c7ae38",
   "metadata": {},
   "outputs": [],
   "source": [
    "url=\"https://www.simonjersey.com/shop-all-c4\"\n",
    "response = requests.get(url)\n",
    "soup = BeautifulSoup(response.text,'html.parser')"
   ]
  },
  {
   "cell_type": "code",
   "execution_count": 7,
   "id": "6ce647c2",
   "metadata": {},
   "outputs": [],
   "source": [
    "base_url = \"https://www.simonjersey.com/\"\n",
    "product_a_tag = soup.find_all('a',class_=\"infclick\")"
   ]
  },
  {
   "cell_type": "code",
   "execution_count": 8,
   "id": "b2e85adb",
   "metadata": {},
   "outputs": [],
   "source": [
    "products_url = []\n",
    "for link in product_a_tag:\n",
    "    products_url.append(base_url+link['href'])"
   ]
  },
  {
   "cell_type": "code",
   "execution_count": 41,
   "id": "71ed2108",
   "metadata": {},
   "outputs": [
    {
     "name": "stdout",
     "output_type": "stream",
     "text": [
      "https://www.simonjersey.com/images/modules/promo_units/1607361278-55547000.jpg\n",
      "Unisex Lightweight Scrub Trousers, Navy\n",
      "£10.80\n",
      "The Unisex Navy Lightweight Scrub Trousers are designed for the way you work & the lightweight fabric helps you to stay cool and comfortable. The drawstring waist ensures the perfect fit, whilst the back pocket provides additional storage space, enabling the wearer to keep necessary items close by. Infection control compliant, this top a perfect addition to any medical uniform, simply wash at 60° and iron if needed. Manufactured from a polyester and cotton blend fabric, this fabric is durable, helping these scrub trousers to look great shift after shift.\n",
      "UT0006\n",
      "[<option value=\"https://www.simonjersey.com/currency-switch/1/1/unisex-lightweight-scrub-trousers-navy-p3456\">uk</option>, <option value=\"https://www.simonjersey.com/currency-switch/1/2/unisex-lightweight-scrub-trousers-navy-p3456\">usa</option>, <option value=\"https://www.simonjersey.com/currency-switch/1/3/unisex-lightweight-scrub-trousers-navy-p3456\">eu</option>, <option value=\"https://www.simonjersey.com/currency-switch/4/19/unisex-lightweight-scrub-trousers-navy-p3456\">es</option>, <option value=\"https://www.simonjersey.com/currency-switch/1/6/unisex-lightweight-scrub-trousers-navy-p3456\">aus</option>, <option value=\"https://www.simonjersey.com/currency-switch/2/9/unisex-lightweight-scrub-trousers-navy-p3456\">fr</option>, <option value=\"https://www.simonjersey.com/currency-switch/3/15/unisex-lightweight-scrub-trousers-navy-p3456\">de</option>]\n"
     ]
    }
   ],
   "source": [
    "products_images = []\n",
    "products_images_tags = soup.find('img')['src']\n",
    "\n",
    "response_topic = requests.get(products_url[0])\n",
    "soup_topic=BeautifulSoup(response_topic.text,'html.parser')\n",
    "\n",
    "products_name_tags = soup_topic.find('h1',id=\"js-product-content__title\").text.strip()\n",
    "products_price_tags = soup_topic.find('span',class_=\"product-content__price--inc\").text\n",
    "\n",
    "content = soup_topic.find('div', class_= 'product-summary').find_all('p')[3].text\n",
    "reference_code = soup_topic.find('span',id=\"js-product-reference\").text\n",
    "size = soup_topic.find_all('option')\n",
    "\n",
    "print(products_images_tags)\n",
    "print(products_name_tags)\n",
    "print(products_price_tags)\n",
    "print(content)\n",
    "print(reference_code)\n",
    "print(size)\n"
   ]
  }
 ],
 "metadata": {
  "kernelspec": {
   "display_name": "Python 3 (ipykernel)",
   "language": "python",
   "name": "python3"
  },
  "language_info": {
   "codemirror_mode": {
    "name": "ipython",
    "version": 3
   },
   "file_extension": ".py",
   "mimetype": "text/x-python",
   "name": "python",
   "nbconvert_exporter": "python",
   "pygments_lexer": "ipython3",
   "version": "3.9.7"
  }
 },
 "nbformat": 4,
 "nbformat_minor": 5
}
